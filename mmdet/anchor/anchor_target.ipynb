{
 "cells": [
  {
   "cell_type": "code",
   "execution_count": 8,
   "metadata": {},
   "outputs": [],
   "source": [
    "class AnchorGenerator(object):\n",
    "\n",
    "    def __init__(self, base_size, scales, ratios, scale_major=True, ctr=None):\n",
    "        self.base_size = base_size\n",
    "        self.scales = torch.Tensor(scales)\n",
    "        self.ratios = torch.Tensor(ratios)\n",
    "        self.scale_major = scale_major\n",
    "        self.ctr = ctr\n",
    "        self.base_anchors = self.gen_base_anchors()\n",
    "\n",
    "    @property\n",
    "    def num_base_anchors(self):\n",
    "        return self.base_anchors.size(0)\n",
    "\n",
    "    def gen_base_anchors(self):\n",
    "        w = self.base_size\n",
    "        h = self.base_size\n",
    "        if self.ctr is None:\n",
    "            x_ctr = 0.5 * (w - 1)\n",
    "            y_ctr = 0.5 * (h - 1)\n",
    "        else:\n",
    "            x_ctr, y_ctr = self.ctr\n",
    "\n",
    "        h_ratios = torch.sqrt(self.ratios)\n",
    "        w_ratios = 1 / h_ratios\n",
    "        if self.scale_major:\n",
    "            ws = (w * w_ratios[:, None] * self.scales[None, :]).view(-1)\n",
    "            hs = (h * h_ratios[:, None] * self.scales[None, :]).view(-1)\n",
    "        else:\n",
    "            ws = (w * self.scales[:, None] * w_ratios[None, :]).view(-1)\n",
    "            hs = (h * self.scales[:, None] * h_ratios[None, :]).view(-1)\n",
    "\n",
    "        base_anchors = torch.stack(\n",
    "            [\n",
    "                x_ctr - 0.5 * (ws - 1), y_ctr - 0.5 * (hs - 1),\n",
    "                x_ctr + 0.5 * (ws - 1), y_ctr + 0.5 * (hs - 1)\n",
    "            ],\n",
    "            dim=-1).round()\n",
    "\n",
    "        return base_anchors\n",
    "\n",
    "    def _meshgrid(self, x, y, row_major=True):\n",
    "        xx = x.repeat(len(y))\n",
    "        yy = y.view(-1, 1).repeat(1, len(x)).view(-1)\n",
    "        if row_major:\n",
    "            return xx, yy\n",
    "        else:\n",
    "            return yy, xx\n",
    "\n",
    "    def grid_anchors(self, featmap_size, stride=16, device='cuda'):\n",
    "        base_anchors = self.base_anchors.to(device)\n",
    "\n",
    "        feat_h, feat_w = featmap_size\n",
    "        shift_x = torch.arange(0, feat_w, device=device) * stride\n",
    "        shift_y = torch.arange(0, feat_h, device=device) * stride\n",
    "        shift_xx, shift_yy = self._meshgrid(shift_x, shift_y)\n",
    "        shifts = torch.stack([shift_xx, shift_yy, shift_xx, shift_yy], dim=-1)\n",
    "        shifts = shifts.type_as(base_anchors)\n",
    "        # first feat_w elements correspond to the first row of shifts\n",
    "        # add A anchors (1, A, 4) to K shifts (K, 1, 4) to get\n",
    "        # shifted anchors (K, A, 4), reshape to (K*A, 4)\n",
    "\n",
    "        all_anchors = base_anchors[None, :, :] + shifts[:, None, :]\n",
    "        all_anchors = all_anchors.view(-1, 4)\n",
    "        # first A rows correspond to A anchors of (0, 0) in feature map,\n",
    "        # then (0, 1), (0, 2), ...\n",
    "        return all_anchors\n",
    "\n",
    "    def valid_flags(self, featmap_size, valid_size, device='cuda'):\n",
    "        feat_h, feat_w = featmap_size\n",
    "        valid_h, valid_w = valid_size\n",
    "        assert valid_h <= feat_h and valid_w <= feat_w\n",
    "        valid_x = torch.zeros(feat_w, dtype=torch.uint8, device=device)\n",
    "        valid_y = torch.zeros(feat_h, dtype=torch.uint8, device=device)\n",
    "        valid_x[:valid_w] = 1\n",
    "        valid_y[:valid_h] = 1\n",
    "        valid_xx, valid_yy = self._meshgrid(valid_x, valid_y)\n",
    "        valid = valid_xx & valid_yy\n",
    "        valid = valid[:, None].expand(\n",
    "            valid.size(0), self.num_base_anchors).contiguous().view(-1)\n",
    "        return valid"
   ]
  },
  {
   "cell_type": "code",
   "execution_count": 37,
   "metadata": {},
   "outputs": [],
   "source": [
    "def get_anchors(featmap_sizes, anchor_strides, anchor_generators):\n",
    "    \"\"\"Get anchors according to feature map sizes.\n",
    "\n",
    "    Args:\n",
    "        featmap_sizes (list[tuple]): Multi-level feature map sizes.\n",
    "        img_metas (list[dict]): Image meta info.\n",
    "\n",
    "    Returns:\n",
    "        tuple: anchors of each image, valid flags of each image\n",
    "    \"\"\"\n",
    "    num_imgs = 1\n",
    "    num_levels = 1\n",
    "    img_shape = [512, 512]\n",
    "\n",
    "    # since feature map sizes of all images are the same, we only compute\n",
    "    # anchors for one time\n",
    "    multi_level_anchors = []\n",
    "\n",
    "    for i in range(num_levels):\n",
    "        anchors = anchor_generators[i].grid_anchors(\n",
    "            featmap_sizes[i], anchor_strides[i])\n",
    "        multi_level_anchors.append(anchors)\n",
    "    anchor_list = [multi_level_anchors for _ in range(num_imgs)]\n",
    "\n",
    "    # for each image, we compute valid flags of multi level anchors\n",
    "    valid_flag_list = []\n",
    "    for i in range(num_imgs):\n",
    "        multi_level_flags = []\n",
    "        for i in range(num_levels):\n",
    "            anchor_stride = anchor_strides[i]\n",
    "            feat_h, feat_w = featmap_sizes[i]\n",
    "            h, w = img_shape\n",
    "            valid_feat_h = min(int(np.ceil(h / anchor_stride)), feat_h)\n",
    "            valid_feat_w = min(int(np.ceil(w / anchor_stride)), feat_w)\n",
    "            flags = anchor_generators[i].valid_flags(\n",
    "                (feat_h, feat_w), (valid_feat_h, valid_feat_w))\n",
    "            multi_level_flags.append(flags)\n",
    "        valid_flag_list.append(multi_level_flags)\n",
    "\n",
    "    return anchor_list, valid_flag_list"
   ]
  },
  {
   "cell_type": "code",
   "execution_count": 113,
   "metadata": {},
   "outputs": [],
   "source": [
    "def assign_wrt_overlaps(overlaps, gt_labels=None):\n",
    "    \"\"\"Assign w.r.t. the overlaps of bboxes with gts.\n",
    "\n",
    "    Args:\n",
    "        overlaps (Tensor): Overlaps between k gt_bboxes and n bboxes,\n",
    "            shape(k, n).\n",
    "        gt_labels (Tensor, optional): Labels of k gt_bboxes, shape (k, ).\n",
    "\n",
    "    Returns:\n",
    "        :obj:`AssignResult`: The assign result.\n",
    "    \"\"\"\n",
    "    \n",
    "    pos_iou_thr = 0.5\n",
    "    neg_iou_thr = 0.4\n",
    "    min_pos_iou = 0\n",
    "    gt_max_assign_all = True\n",
    "    \n",
    "    if overlaps.numel() == 0:\n",
    "        raise ValueError('No gt or proposals')\n",
    "\n",
    "    num_gts, num_bboxes = overlaps.size(0), overlaps.size(1)\n",
    "\n",
    "    # 1. assign -1 by default\n",
    "    assigned_gt_inds = overlaps.new_full(\n",
    "        (num_bboxes, ), -1, dtype=torch.long)\n",
    "\n",
    "    # for each anchor, which gt best overlaps with it\n",
    "    # for each anchor, the max iou of all gts\n",
    "    max_overlaps, argmax_overlaps = overlaps.max(dim=0)\n",
    "    # for each gt, which anchor best overlaps with it\n",
    "    # for each gt, the max iou of all proposals\n",
    "    gt_max_overlaps, gt_argmax_overlaps = overlaps.max(dim=1)\n",
    "\n",
    "    # 2. assign negative: below\n",
    "    if isinstance(neg_iou_thr, float):\n",
    "        assigned_gt_inds[(max_overlaps >= 0)\n",
    "                         & (max_overlaps < neg_iou_thr)] = 0\n",
    "    elif isinstance(neg_iou_thr, tuple):\n",
    "        assert len(neg_iou_thr) == 2\n",
    "        assigned_gt_inds[(max_overlaps >= neg_iou_thr[0])\n",
    "                         & (max_overlaps < neg_iou_thr[1])] = 0\n",
    "\n",
    "    # 3. assign positive: above positive IoU threshold\n",
    "    pos_inds = max_overlaps >= pos_iou_thr\n",
    "    assigned_gt_inds[pos_inds] = argmax_overlaps[pos_inds] + 1\n",
    "\n",
    "    # 4. assign fg: for each gt, proposals with highest IoU\n",
    "    for i in range(num_gts):\n",
    "        if gt_max_overlaps[i] >= min_pos_iou:\n",
    "            if gt_max_assign_all:\n",
    "                max_iou_inds = overlaps[i, :] == gt_max_overlaps[i]\n",
    "                assigned_gt_inds[max_iou_inds] = i + 1\n",
    "            else:\n",
    "                assigned_gt_inds[gt_argmax_overlaps[i]] = i + 1\n",
    "\n",
    "    if gt_labels is not None:\n",
    "        assigned_labels = assigned_gt_inds.new_zeros((num_bboxes, ))\n",
    "        pos_inds = torch.nonzero(assigned_gt_inds > 0).squeeze()\n",
    "        if pos_inds.numel() > 0:\n",
    "            assigned_labels[pos_inds] = gt_labels[\n",
    "                assigned_gt_inds[pos_inds] - 1]\n",
    "    else:\n",
    "        assigned_labels = None\n",
    "        \n",
    "    return num_gts, assigned_gt_inds, max_overlaps\n",
    "\n",
    "def bbox_overlaps(bboxes1, bboxes2, mode='iou', is_aligned=False):\n",
    "    \"\"\"Calculate overlap between two set of bboxes.\n",
    "\n",
    "    If ``is_aligned`` is ``False``, then calculate the ious between each bbox\n",
    "    of bboxes1 and bboxes2, otherwise the ious between each aligned pair of\n",
    "    bboxes1 and bboxes2.\n",
    "\n",
    "    Args:\n",
    "        bboxes1 (Tensor): shape (m, 4)\n",
    "        bboxes2 (Tensor): shape (n, 4), if is_aligned is ``True``, then m and n\n",
    "            must be equal.\n",
    "        mode (str): \"iou\" (intersection over union) or iof (intersection over\n",
    "            foreground).\n",
    "\n",
    "    Returns:\n",
    "        ious(Tensor): shape (m, n) if is_aligned == False else shape (m, 1)\n",
    "    \"\"\"\n",
    "\n",
    "    assert mode in ['iou', 'iof']\n",
    "\n",
    "    rows = bboxes1.size(0)\n",
    "    cols = bboxes2.size(0)\n",
    "    if is_aligned:\n",
    "        assert rows == cols\n",
    "\n",
    "    if rows * cols == 0:\n",
    "        return bboxes1.new(rows, 1) if is_aligned else bboxes1.new(rows, cols)\n",
    "\n",
    "    if is_aligned:\n",
    "        lt = torch.max(bboxes1[:, :2], bboxes2[:, :2])  # [rows, 2]\n",
    "        rb = torch.min(bboxes1[:, 2:], bboxes2[:, 2:])  # [rows, 2]\n",
    "\n",
    "        wh = (rb - lt + 1).clamp(min=0)  # [rows, 2]\n",
    "        overlap = wh[:, 0] * wh[:, 1]\n",
    "        area1 = (bboxes1[:, 2] - bboxes1[:, 0] + 1) * (\n",
    "            bboxes1[:, 3] - bboxes1[:, 1] + 1)\n",
    "\n",
    "        if mode == 'iou':\n",
    "            area2 = (bboxes2[:, 2] - bboxes2[:, 0] + 1) * (\n",
    "                bboxes2[:, 3] - bboxes2[:, 1] + 1)\n",
    "            ious = overlap / (area1 + area2 - overlap)\n",
    "        else:\n",
    "            ious = overlap / area1\n",
    "    else:\n",
    "        lt = torch.max(bboxes1[:, None, :2], bboxes2[:, :2])  # [rows, cols, 2]\n",
    "        rb = torch.min(bboxes1[:, None, 2:], bboxes2[:, 2:])  # [rows, cols, 2]\n",
    "\n",
    "        wh = (rb - lt + 1).clamp(min=0)  # [rows, cols, 2]\n",
    "        overlap = wh[:, :, 0] * wh[:, :, 1]\n",
    "        area1 = (bboxes1[:, 2] - bboxes1[:, 0] + 1) * (\n",
    "            bboxes1[:, 3] - bboxes1[:, 1] + 1)\n",
    "\n",
    "        if mode == 'iou':\n",
    "            area2 = (bboxes2[:, 2] - bboxes2[:, 0] + 1) * (\n",
    "                bboxes2[:, 3] - bboxes2[:, 1] + 1)\n",
    "            ious = overlap / (area1[:, None] + area2 - overlap)\n",
    "        else:\n",
    "            ious = overlap / (area1[:, None])\n",
    "\n",
    "    return ious\n"
   ]
  },
  {
   "cell_type": "code",
   "execution_count": 63,
   "metadata": {},
   "outputs": [],
   "source": [
    "import torch\n",
    "import numpy as np"
   ]
  },
  {
   "cell_type": "code",
   "execution_count": 64,
   "metadata": {},
   "outputs": [],
   "source": [
    "base_size = 16\n",
    "anchor_strides = [16]\n",
    "scales = [2, 4, 8]\n",
    "ratios = [0.5, 1.0, 2.0]"
   ]
  },
  {
   "cell_type": "code",
   "execution_count": 81,
   "metadata": {},
   "outputs": [],
   "source": [
    "featmap_sizes = [[32, 32]]"
   ]
  },
  {
   "cell_type": "code",
   "execution_count": 82,
   "metadata": {},
   "outputs": [],
   "source": [
    "anchor_generators = [AnchorGenerator(base_size=base_size, scales=scales, ratios=ratios)]"
   ]
  },
  {
   "cell_type": "code",
   "execution_count": 83,
   "metadata": {},
   "outputs": [],
   "source": [
    "anchor_list, valid_flag_list = get_anchors(featmap_sizes, anchor_strides, anchor_generators)"
   ]
  },
  {
   "cell_type": "code",
   "execution_count": 84,
   "metadata": {},
   "outputs": [
    {
     "data": {
      "text/plain": [
       "tensor(1, device='cuda:0', dtype=torch.uint8)"
      ]
     },
     "execution_count": 84,
     "metadata": {},
     "output_type": "execute_result"
    }
   ],
   "source": [
    "valid_flag_list[0][0].all()"
   ]
  },
  {
   "cell_type": "code",
   "execution_count": 85,
   "metadata": {},
   "outputs": [],
   "source": [
    "gt_bboxes_list = torch.FloatTensor([[0, 0, 40, 40]]).to('cuda')"
   ]
  },
  {
   "cell_type": "markdown",
   "metadata": {},
   "source": [
    "calculate target"
   ]
  },
  {
   "cell_type": "code",
   "execution_count": 86,
   "metadata": {},
   "outputs": [],
   "source": [
    "anchor_list, valid_flag_list = anchor_list[0][0], valid_flag_list[0][0]"
   ]
  },
  {
   "cell_type": "code",
   "execution_count": 87,
   "metadata": {},
   "outputs": [],
   "source": [
    "flat_anchors = anchor_list[:, :4]"
   ]
  },
  {
   "cell_type": "code",
   "execution_count": 117,
   "metadata": {},
   "outputs": [],
   "source": [
    "overlaps = bbox_overlaps(gt_bboxes_list, flat_anchors)"
   ]
  },
  {
   "cell_type": "code",
   "execution_count": 118,
   "metadata": {},
   "outputs": [],
   "source": [
    "import matplotlib.pyplot as plt"
   ]
  },
  {
   "cell_type": "code",
   "execution_count": 119,
   "metadata": {},
   "outputs": [],
   "source": [
    "overlaps_npy = overlaps.reshape(32, 32, 9).cpu().numpy()"
   ]
  },
  {
   "cell_type": "code",
   "execution_count": 120,
   "metadata": {},
   "outputs": [
    {
     "data": {
      "image/png": "[encoded data removed]",
      "text/plain": [
       "<Figure size 432x288 with 1 Axes>"
      ]
     },
     "metadata": {
      "needs_background": "light"
     },
     "output_type": "display_data"
    },
    {
     "data": {
      "image/png": "[encoded data removed]",
      "text/plain": [
       "<Figure size 432x288 with 1 Axes>"
      ]
     },
     "metadata": {
      "needs_background": "light"
     },
     "output_type": "display_data"
    }
   ],
   "source": [
    "plt.imshow(overlaps_npy[:, :, :3])  # anchor 0:3\n",
    "plt.show()\n",
    "\n",
    "plt.imshow(overlaps_npy[:, :, 3:6])  # anchor 3:6\n",
    "plt.show()"
   ]
  },
  {
   "cell_type": "code",
   "execution_count": 236,
   "metadata": {},
   "outputs": [],
   "source": [
    "# assigned result\n",
    "# gt_inds == assigned_gt_inds\n",
    "num_gts, assigned_gt_inds, max_overlaps = assign_wrt_overlaps(overlaps)"
   ]
  },
  {
   "cell_type": "code",
   "execution_count": 237,
   "metadata": {},
   "outputs": [],
   "source": [
    "pos_inds = torch.nonzero(assigned_gt_inds > 0).squeeze(-1).unique()  # positive"
   ]
  },
  {
   "cell_type": "code",
   "execution_count": 238,
   "metadata": {},
   "outputs": [],
   "source": [
    "neg_inds = torch.nonzero(assigned_gt_inds == 0).squeeze(-1).unique()  # negative "
   ]
  },
  {
   "cell_type": "code",
   "execution_count": null,
   "metadata": {},
   "outputs": [],
   "source": [
    "gt_flags = bboxes.new_zeros(bboxes.shape[0], dtype=torch.uint8)"
   ]
  },
  {
   "cell_type": "code",
   "execution_count": 209,
   "metadata": {},
   "outputs": [],
   "source": [
    "import cv2"
   ]
  },
  {
   "cell_type": "code",
   "execution_count": 210,
   "metadata": {},
   "outputs": [],
   "source": [
    "background_img = np.zeros([512, 512, 3])"
   ]
  },
  {
   "cell_type": "code",
   "execution_count": 211,
   "metadata": {},
   "outputs": [
    {
     "data": {
      "text/plain": [
       "tensor([[ 0.,  0., 40., 40.]], device='cuda:0')"
      ]
     },
     "execution_count": 211,
     "metadata": {},
     "output_type": "execute_result"
    }
   ],
   "source": [
    "gt_bboxes_list"
   ]
  },
  {
   "cell_type": "code",
   "execution_count": 212,
   "metadata": {},
   "outputs": [],
   "source": [
    "gt_bboxes_sample = gt_bboxes_list[0].cpu().numpy()"
   ]
  },
  {
   "cell_type": "code",
   "execution_count": 213,
   "metadata": {},
   "outputs": [],
   "source": [
    "x1, y1, w, h = gt_bboxes_sample"
   ]
  },
  {
   "cell_type": "code",
   "execution_count": 214,
   "metadata": {
    "collapsed": true
   },
   "outputs": [
    {
     "data": {
      "text/plain": [
       "array([[[  0.,   0., 255.],\n",
       "        [  0.,   0., 255.],\n",
       "        [  0.,   0., 255.],\n",
       "        ...,\n",
       "        [  0.,   0.,   0.],\n",
       "        [  0.,   0.,   0.],\n",
       "        [  0.,   0.,   0.]],\n",
       "\n",
       "       [[  0.,   0., 255.],\n",
       "        [  0.,   0.,   0.],\n",
       "        [  0.,   0.,   0.],\n",
       "        ...,\n",
       "        [  0.,   0.,   0.],\n",
       "        [  0.,   0.,   0.],\n",
       "        [  0.,   0.,   0.]],\n",
       "\n",
       "       [[  0.,   0., 255.],\n",
       "        [  0.,   0.,   0.],\n",
       "        [  0.,   0.,   0.],\n",
       "        ...,\n",
       "        [  0.,   0.,   0.],\n",
       "        [  0.,   0.,   0.],\n",
       "        [  0.,   0.,   0.]],\n",
       "\n",
       "       ...,\n",
       "\n",
       "       [[  0.,   0.,   0.],\n",
       "        [  0.,   0.,   0.],\n",
       "        [  0.,   0.,   0.],\n",
       "        ...,\n",
       "        [  0.,   0.,   0.],\n",
       "        [  0.,   0.,   0.],\n",
       "        [  0.,   0.,   0.]],\n",
       "\n",
       "       [[  0.,   0.,   0.],\n",
       "        [  0.,   0.,   0.],\n",
       "        [  0.,   0.,   0.],\n",
       "        ...,\n",
       "        [  0.,   0.,   0.],\n",
       "        [  0.,   0.,   0.],\n",
       "        [  0.,   0.,   0.]],\n",
       "\n",
       "       [[  0.,   0.,   0.],\n",
       "        [  0.,   0.,   0.],\n",
       "        [  0.,   0.,   0.],\n",
       "        ...,\n",
       "        [  0.,   0.,   0.],\n",
       "        [  0.,   0.,   0.],\n",
       "        [  0.,   0.,   0.]]])"
      ]
     },
     "execution_count": 214,
     "metadata": {},
     "output_type": "execute_result"
    }
   ],
   "source": [
    "# draw gt bbox\n",
    "cv2.rectangle(background_img, (x1, y1), (x1+w, y1+h), (0, 0, 255), 1)"
   ]
  },
  {
   "cell_type": "code",
   "execution_count": 217,
   "metadata": {},
   "outputs": [],
   "source": [
    "# draw one_assigned bbox\n",
    "one_assigned_gt = anchor_list[pos_inds][0].cpu().numpy().flatten()\n",
    "x1, y1, w, h = one_assigned_gt"
   ]
  },
  {
   "cell_type": "code",
   "execution_count": 218,
   "metadata": {
    "collapsed": true
   },
   "outputs": [
    {
     "data": {
      "text/plain": [
       "array([[[  0.,   0., 255.],\n",
       "        [  0.,   0., 255.],\n",
       "        [  0.,   0., 255.],\n",
       "        ...,\n",
       "        [  0.,   0.,   0.],\n",
       "        [  0.,   0.,   0.],\n",
       "        [  0.,   0.,   0.]],\n",
       "\n",
       "       [[  0.,   0., 255.],\n",
       "        [  0.,   0.,   0.],\n",
       "        [  0.,   0.,   0.],\n",
       "        ...,\n",
       "        [  0.,   0.,   0.],\n",
       "        [  0.,   0.,   0.],\n",
       "        [  0.,   0.,   0.]],\n",
       "\n",
       "       [[  0.,   0., 255.],\n",
       "        [  0.,   0.,   0.],\n",
       "        [  0.,   0.,   0.],\n",
       "        ...,\n",
       "        [  0.,   0.,   0.],\n",
       "        [  0.,   0.,   0.],\n",
       "        [  0.,   0.,   0.]],\n",
       "\n",
       "       ...,\n",
       "\n",
       "       [[  0.,   0.,   0.],\n",
       "        [  0.,   0.,   0.],\n",
       "        [  0.,   0.,   0.],\n",
       "        ...,\n",
       "        [  0.,   0.,   0.],\n",
       "        [  0.,   0.,   0.],\n",
       "        [  0.,   0.,   0.]],\n",
       "\n",
       "       [[  0.,   0.,   0.],\n",
       "        [  0.,   0.,   0.],\n",
       "        [  0.,   0.,   0.],\n",
       "        ...,\n",
       "        [  0.,   0.,   0.],\n",
       "        [  0.,   0.,   0.],\n",
       "        [  0.,   0.,   0.]],\n",
       "\n",
       "       [[  0.,   0.,   0.],\n",
       "        [  0.,   0.,   0.],\n",
       "        [  0.,   0.,   0.],\n",
       "        ...,\n",
       "        [  0.,   0.,   0.],\n",
       "        [  0.,   0.,   0.],\n",
       "        [  0.,   0.,   0.]]])"
      ]
     },
     "execution_count": 218,
     "metadata": {},
     "output_type": "execute_result"
    }
   ],
   "source": [
    "cv2.rectangle(background_img, (x1, y1), (x1+w, y1+h), (0, 255, 0), 1)"
   ]
  },
  {
   "cell_type": "markdown",
   "metadata": {},
   "source": [
    "gt (x1, y1, w, h)\n",
    "anchor (x1, y1, w, h)\n",
    "pred (x1, y1, w, h) \n",
    "\n",
    "다 작성 후에 학습이 되면서 가까워지는 그림 시각화"
   ]
  },
  {
   "cell_type": "code",
   "execution_count": 219,
   "metadata": {},
   "outputs": [
    {
     "name": "stderr",
     "output_type": "stream",
     "text": [
      "Clipping input data to the valid range for imshow with RGB data ([0..1] for floats or [0..255] for integers).\n"
     ]
    },
    {
     "data": {
      "text/plain": [
       "<matplotlib.image.AxesImage at 0x7f92ec6f62b0>"
      ]
     },
     "execution_count": 219,
     "metadata": {},
     "output_type": "execute_result"
    },
    {
     "data": {
      "image/png": "[encoded data removed]",
      "text/plain": [
       "<Figure size 1440x1440 with 1 Axes>"
      ]
     },
     "metadata": {
      "needs_background": "light"
     },
     "output_type": "display_data"
    }
   ],
   "source": [
    "plt.figure(figsize=(20, 20))\n",
    "plt.imshow(background_img)"
   ]
  },
  {
   "cell_type": "code",
   "execution_count": 220,
   "metadata": {},
   "outputs": [],
   "source": [
    "def bbox2delta(proposals, gt, means=[0, 0, 0, 0], stds=[1, 1, 1, 1]):\n",
    "    assert proposals.size() == gt.size()\n",
    "\n",
    "    proposals = proposals.float()\n",
    "    gt = gt.float()\n",
    "    px = (proposals[..., 0] + proposals[..., 2]) * 0.5\n",
    "    py = (proposals[..., 1] + proposals[..., 3]) * 0.5\n",
    "    pw = proposals[..., 2] - proposals[..., 0] + 1.0\n",
    "    ph = proposals[..., 3] - proposals[..., 1] + 1.0\n",
    "\n",
    "    gx = (gt[..., 0] + gt[..., 2]) * 0.5\n",
    "    gy = (gt[..., 1] + gt[..., 3]) * 0.5\n",
    "    gw = gt[..., 2] - gt[..., 0] + 1.0\n",
    "    gh = gt[..., 3] - gt[..., 1] + 1.0\n",
    "\n",
    "    dx = (gx - px) / pw\n",
    "    dy = (gy - py) / ph\n",
    "    dw = torch.log(gw / pw)\n",
    "    dh = torch.log(gh / ph)\n",
    "    deltas = torch.stack([dx, dy, dw, dh], dim=-1)\n",
    "\n",
    "    means = deltas.new_tensor(means).unsqueeze(0)\n",
    "    stds = deltas.new_tensor(stds).unsqueeze(0)\n",
    "    deltas = deltas.sub_(means).div_(stds)\n",
    "\n",
    "    return deltas"
   ]
  },
  {
   "cell_type": "code",
   "execution_count": 223,
   "metadata": {},
   "outputs": [],
   "source": [
    "bboxes = anchor_list"
   ]
  },
  {
   "cell_type": "code",
   "execution_count": 262,
   "metadata": {},
   "outputs": [],
   "source": [
    "pos_bboxes = bboxes[pos_inds]"
   ]
  },
  {
   "cell_type": "code",
   "execution_count": 264,
   "metadata": {},
   "outputs": [],
   "source": [
    "pos_assigned_gt_inds = assigned_gt_inds[pos_inds] - 1"
   ]
  },
  {
   "cell_type": "code",
   "execution_count": 265,
   "metadata": {},
   "outputs": [],
   "source": [
    "pos_gt_bboxes = gt_bboxes_list[pos_assigned_gt_inds, :]"
   ]
  },
  {
   "cell_type": "code",
   "execution_count": 266,
   "metadata": {},
   "outputs": [],
   "source": [
    "deltas = bbox2delta(pos_bboxes, pos_gt_bboxes)"
   ]
  },
  {
   "cell_type": "code",
   "execution_count": 275,
   "metadata": {},
   "outputs": [],
   "source": [
    "dx, dy, dw, dh = deltas[0].cpu().numpy()"
   ]
  },
  {
   "cell_type": "code",
   "execution_count": 283,
   "metadata": {},
   "outputs": [],
   "source": [
    "gx, gy, gw, gh = pos_gt_bboxes[0].cpu().numpy()"
   ]
  },
  {
   "cell_type": "code",
   "execution_count": 284,
   "metadata": {},
   "outputs": [],
   "source": [
    "px, py, pw, ph = pos_bboxes[0].cpu().numpy()"
   ]
  },
  {
   "cell_type": "code",
   "execution_count": 285,
   "metadata": {},
   "outputs": [
    {
     "data": {
      "text/plain": [
       "(-0.109375, -0.20512821)"
      ]
     },
     "execution_count": 285,
     "metadata": {},
     "output_type": "execute_result"
    }
   ],
   "source": [
    "dx, (gx - px) / pw"
   ]
  },
  {
   "cell_type": "code",
   "execution_count": 278,
   "metadata": {},
   "outputs": [
    {
     "data": {
      "text/plain": [
       "tensor([[ 0.,  0., 40., 40.]], device='cuda:0')"
      ]
     },
     "execution_count": 278,
     "metadata": {},
     "output_type": "execute_result"
    }
   ],
   "source": [
    "pos_gt_bboxes"
   ]
  },
  {
   "cell_type": "code",
   "execution_count": 279,
   "metadata": {},
   "outputs": [
    {
     "data": {
      "text/plain": [
       "tensor([[ 8.,  8., 39., 39.]], device='cuda:0')"
      ]
     },
     "execution_count": 279,
     "metadata": {},
     "output_type": "execute_result"
    }
   ],
   "source": [
    "pos_bboxes"
   ]
  },
  {
   "cell_type": "code",
   "execution_count": 280,
   "metadata": {
    "scrolled": true
   },
   "outputs": [
    {
     "data": {
      "text/plain": [
       "0.0"
      ]
     },
     "execution_count": 280,
     "metadata": {},
     "output_type": "execute_result"
    }
   ],
   "source": [
    "gx - px"
   ]
  },
  {
   "cell_type": "code",
   "execution_count": 282,
   "metadata": {},
   "outputs": [
    {
     "data": {
      "text/plain": [
       "8.0"
      ]
     },
     "execution_count": 282,
     "metadata": {},
     "output_type": "execute_result"
    }
   ],
   "source": [
    "px"
   ]
  }
 ],
 "metadata": {
  "kernelspec": {
   "display_name": "mmdet",
   "language": "python",
   "name": "mmdetection"
  },
  "language_info": {
   "codemirror_mode": {
    "name": "ipython",
    "version": 3
   },
   "file_extension": ".py",
   "mimetype": "text/x-python",
   "name": "python",
   "nbconvert_exporter": "python",
   "pygments_lexer": "ipython3",
   "version": "3.6.8"
  }
 },
 "nbformat": 4,
 "nbformat_minor": 2
}
